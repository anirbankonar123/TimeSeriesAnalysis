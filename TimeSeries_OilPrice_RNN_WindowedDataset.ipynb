{
 "cells": [
  {
   "cell_type": "code",
   "execution_count": 1,
   "metadata": {},
   "outputs": [],
   "source": [
    "from io import StringIO\n",
    "import requests\n",
    "import json\n",
    "import pandas as pd\n",
    "from sklearn.preprocessing import MinMaxScaler\n",
    "import tensorflow as tf\n",
    "import h5py\n",
    "import numpy as np\n",
    "import pandas as pd\n",
    "import matplotlib.pyplot as plt\n",
    "%matplotlib inline"
   ]
  },
  {
   "cell_type": "code",
   "execution_count": 2,
   "metadata": {},
   "outputs": [
    {
     "data": {
      "text/html": [
       "<div>\n",
       "<style scoped>\n",
       "    .dataframe tbody tr th:only-of-type {\n",
       "        vertical-align: middle;\n",
       "    }\n",
       "\n",
       "    .dataframe tbody tr th {\n",
       "        vertical-align: top;\n",
       "    }\n",
       "\n",
       "    .dataframe thead th {\n",
       "        text-align: right;\n",
       "    }\n",
       "</style>\n",
       "<table border=\"1\" class=\"dataframe\">\n",
       "  <thead>\n",
       "    <tr style=\"text-align: right;\">\n",
       "      <th></th>\n",
       "      <th>DATE</th>\n",
       "      <th>DCOILBRENTEU</th>\n",
       "    </tr>\n",
       "  </thead>\n",
       "  <tbody>\n",
       "    <tr>\n",
       "      <th>0</th>\n",
       "      <td>1987-05-20</td>\n",
       "      <td>18.63</td>\n",
       "    </tr>\n",
       "    <tr>\n",
       "      <th>1</th>\n",
       "      <td>1987-05-21</td>\n",
       "      <td>18.45</td>\n",
       "    </tr>\n",
       "    <tr>\n",
       "      <th>2</th>\n",
       "      <td>1987-05-22</td>\n",
       "      <td>18.55</td>\n",
       "    </tr>\n",
       "    <tr>\n",
       "      <th>3</th>\n",
       "      <td>1987-05-25</td>\n",
       "      <td>18.60</td>\n",
       "    </tr>\n",
       "    <tr>\n",
       "      <th>4</th>\n",
       "      <td>1987-05-26</td>\n",
       "      <td>18.63</td>\n",
       "    </tr>\n",
       "  </tbody>\n",
       "</table>\n",
       "</div>"
      ],
      "text/plain": [
       "         DATE DCOILBRENTEU\n",
       "0  1987-05-20        18.63\n",
       "1  1987-05-21        18.45\n",
       "2  1987-05-22        18.55\n",
       "3  1987-05-25        18.60\n",
       "4  1987-05-26        18.63"
      ]
     },
     "execution_count": 2,
     "metadata": {},
     "output_type": "execute_result"
    }
   ],
   "source": [
    "df_data_1 = pd.read_csv('C:/Users/103467/Python/TimeSeriesAnalysis/DCOILBRENTEU_11Oct.csv')\n",
    "df_data_1.head()"
   ]
  },
  {
   "cell_type": "code",
   "execution_count": 3,
   "metadata": {},
   "outputs": [
    {
     "data": {
      "text/plain": [
       "8709"
      ]
     },
     "execution_count": 3,
     "metadata": {},
     "output_type": "execute_result"
    }
   ],
   "source": [
    "len(df_data_1)"
   ]
  },
  {
   "cell_type": "markdown",
   "metadata": {},
   "source": [
    "Data Source\n",
    "-----------\n",
    "U.S. Energy Information Administration, Crude Oil Prices: Brent - Europe [DCOILBRENTEU], retrieved from FRED, Federal Reserve Bank of St. Louis; https://fred.stlouisfed.org/series/DCOILBRENTEU, January 10, 2018."
   ]
  },
  {
   "cell_type": "code",
   "execution_count": 4,
   "metadata": {},
   "outputs": [
    {
     "name": "stdout",
     "output_type": "stream",
     "text": [
      "(8474, 2)\n"
     ]
    }
   ],
   "source": [
    "df_data_1 = df_data_1[df_data_1.DCOILBRENTEU != \".\"]\n",
    "print(df_data_1.shape)"
   ]
  },
  {
   "cell_type": "code",
   "execution_count": 9,
   "metadata": {},
   "outputs": [
    {
     "data": {
      "text/html": [
       "<div>\n",
       "<style scoped>\n",
       "    .dataframe tbody tr th:only-of-type {\n",
       "        vertical-align: middle;\n",
       "    }\n",
       "\n",
       "    .dataframe tbody tr th {\n",
       "        vertical-align: top;\n",
       "    }\n",
       "\n",
       "    .dataframe thead th {\n",
       "        text-align: right;\n",
       "    }\n",
       "</style>\n",
       "<table border=\"1\" class=\"dataframe\">\n",
       "  <thead>\n",
       "    <tr style=\"text-align: right;\">\n",
       "      <th></th>\n",
       "      <th>DATE</th>\n",
       "      <th>DCOILBRENTEU</th>\n",
       "    </tr>\n",
       "  </thead>\n",
       "  <tbody>\n",
       "    <tr>\n",
       "      <th>0</th>\n",
       "      <td>1987-05-20</td>\n",
       "      <td>18.63</td>\n",
       "    </tr>\n",
       "    <tr>\n",
       "      <th>1</th>\n",
       "      <td>1987-05-21</td>\n",
       "      <td>18.45</td>\n",
       "    </tr>\n",
       "    <tr>\n",
       "      <th>2</th>\n",
       "      <td>1987-05-22</td>\n",
       "      <td>18.55</td>\n",
       "    </tr>\n",
       "    <tr>\n",
       "      <th>3</th>\n",
       "      <td>1987-05-25</td>\n",
       "      <td>18.60</td>\n",
       "    </tr>\n",
       "    <tr>\n",
       "      <th>4</th>\n",
       "      <td>1987-05-26</td>\n",
       "      <td>18.63</td>\n",
       "    </tr>\n",
       "  </tbody>\n",
       "</table>\n",
       "</div>"
      ],
      "text/plain": [
       "         DATE DCOILBRENTEU\n",
       "0  1987-05-20        18.63\n",
       "1  1987-05-21        18.45\n",
       "2  1987-05-22        18.55\n",
       "3  1987-05-25        18.60\n",
       "4  1987-05-26        18.63"
      ]
     },
     "execution_count": 9,
     "metadata": {},
     "output_type": "execute_result"
    }
   ],
   "source": [
    "df_data_1.head()"
   ]
  },
  {
   "cell_type": "code",
   "execution_count": 5,
   "metadata": {},
   "outputs": [
    {
     "data": {
      "image/png": "[encoded data removed]",
      "text/plain": [
       "<Figure size 432x288 with 1 Axes>"
      ]
     },
     "metadata": {
      "needs_background": "light"
     },
     "output_type": "display_data"
    }
   ],
   "source": [
    "df_data_1_plot = df_data_1.iloc[:,1:2].values.astype(float)\n",
    "# Visualising the Data\n",
    "plt.plot(df_data_1_plot, color = 'red', label = 'Crude Oil Prices')\n",
    "plt.title('Crude Oil Prices Historical Data')\n",
    "plt.xlabel('Time (Days)')\n",
    "plt.ylabel('Crude Oil Prices')\n",
    "plt.legend()\n",
    "plt.show()"
   ]
  },
  {
   "cell_type": "code",
   "execution_count": 13,
   "metadata": {},
   "outputs": [],
   "source": [
    "series =  df_data_1.iloc[:,1:2]"
   ]
  },
  {
   "cell_type": "code",
   "execution_count": 15,
   "metadata": {},
   "outputs": [
    {
     "data": {
      "text/plain": [
       "array([['18.63'],\n",
       "       ['18.45'],\n",
       "       ['18.55'],\n",
       "       ['18.60'],\n",
       "       ['18.63']], dtype=object)"
      ]
     },
     "execution_count": 15,
     "metadata": {},
     "output_type": "execute_result"
    }
   ],
   "source": [
    "series = np.array(series)\n",
    "series [:5]"
   ]
  },
  {
   "cell_type": "code",
   "execution_count": 6,
   "metadata": {},
   "outputs": [],
   "source": [
    "def windowed_dataset(series, window_size, batch_size, shuffle_buffer):\n",
    "    dataset = tf.data.Dataset.from_tensor_slices(series)\n",
    "    dataset = dataset.window(window_size + 1, shift=1, drop_remainder=True)\n",
    "    dataset = dataset.flat_map(lambda window: window.batch(window_size + 1))\n",
    "    dataset = dataset.shuffle(shuffle_buffer).map(lambda window: (window[:-1], window[-1]))\n",
    "    dataset = dataset.batch(batch_size).prefetch(1)\n",
    "    return dataset"
   ]
  },
  {
   "cell_type": "code",
   "execution_count": 16,
   "metadata": {},
   "outputs": [
    {
     "name": "stdout",
     "output_type": "stream",
     "text": [
      "7627\n"
     ]
    }
   ],
   "source": [
    "time = df_data_1.index\n",
    "split_time = np.ceil(0.9*(len(df_data_1))).astype(int)\n",
    "print(split_time)\n",
    "time_train = time[:split_time]\n",
    "x_train = series[:split_time]\n",
    "time_valid = time[split_time:]\n",
    "x_valid = series[split_time:]\n",
    "\n",
    "window_size = 20\n",
    "batch_size = 32\n",
    "shuffle_buffer_size = 1000"
   ]
  },
  {
   "cell_type": "code",
   "execution_count": 31,
   "metadata": {},
   "outputs": [],
   "source": [
    "x_train=x_train.astype(np.float)"
   ]
  },
  {
   "cell_type": "code",
   "execution_count": 39,
   "metadata": {},
   "outputs": [],
   "source": [
    "x_valid=x_valid.astype(np.float)"
   ]
  },
  {
   "cell_type": "code",
   "execution_count": 40,
   "metadata": {},
   "outputs": [],
   "source": [
    "test_x=[]\n",
    "for i in range(len(x_valid)):\n",
    "    #print(x_train[i][0])\n",
    "    test_x.append(x_valid[i][0])"
   ]
  },
  {
   "cell_type": "code",
   "execution_count": 32,
   "metadata": {},
   "outputs": [],
   "source": [
    "train_x=[]\n",
    "for i in range(len(x_train)):\n",
    "    #print(x_train[i][0])\n",
    "    train_x.append(x_train[i][0])"
   ]
  },
  {
   "cell_type": "code",
   "execution_count": 33,
   "metadata": {},
   "outputs": [
    {
     "data": {
      "text/plain": [
       "[18.63, 18.45, 18.55, 18.6, 18.63]"
      ]
     },
     "execution_count": 33,
     "metadata": {},
     "output_type": "execute_result"
    }
   ],
   "source": [
    "train_x[:5]"
   ]
  },
  {
   "cell_type": "code",
   "execution_count": 34,
   "metadata": {},
   "outputs": [],
   "source": [
    "tf.keras.backend.clear_session()\n",
    "tf.random.set_seed(51)\n",
    "np.random.seed(51)\n",
    "\n",
    "train_set = windowed_dataset(train_x, window_size, batch_size=128, shuffle_buffer=shuffle_buffer_size)"
   ]
  },
  {
   "cell_type": "code",
   "execution_count": 35,
   "metadata": {},
   "outputs": [
    {
     "name": "stdout",
     "output_type": "stream",
     "text": [
      "Epoch 1/100\n",
      "60/60 [==============================] - 1s 10ms/step - loss: 176.5807 - mae: 177.0807 - lr: 1.0000e-08\n",
      "Epoch 2/100\n",
      "60/60 [==============================] - 1s 9ms/step - loss: 160.2814 - mae: 160.7814 - lr: 1.1220e-08\n",
      "Epoch 3/100\n",
      "60/60 [==============================] - 1s 9ms/step - loss: 138.1004 - mae: 138.6004 - lr: 1.2589e-08\n",
      "Epoch 4/100\n",
      "60/60 [==============================] - 1s 9ms/step - loss: 113.1664 - mae: 113.6664 - lr: 1.4125e-08\n",
      "Epoch 5/100\n",
      "60/60 [==============================] - 1s 9ms/step - loss: 88.2214 - mae: 88.7214 - lr: 1.5849e-08\n",
      "Epoch 6/100\n",
      "60/60 [==============================] - 1s 9ms/step - loss: 61.9086 - mae: 62.4083 - lr: 1.7783e-08\n",
      "Epoch 7/100\n",
      "60/60 [==============================] - 1s 9ms/step - loss: 32.8096 - mae: 33.3065 - lr: 1.9953e-08\n",
      "Epoch 8/100\n",
      "60/60 [==============================] - 1s 9ms/step - loss: 14.2461 - mae: 14.7431 - lr: 2.2387e-08\n",
      "Epoch 9/100\n",
      "60/60 [==============================] - 1s 9ms/step - loss: 4.8801 - mae: 5.3587 - lr: 2.5119e-08\n",
      "Epoch 10/100\n",
      "60/60 [==============================] - 1s 9ms/step - loss: 2.6486 - mae: 3.0910 - lr: 2.8184e-08\n",
      "Epoch 11/100\n",
      "60/60 [==============================] - 1s 9ms/step - loss: 2.4287 - mae: 2.8628 - lr: 3.1623e-08\n",
      "Epoch 12/100\n",
      "60/60 [==============================] - 1s 9ms/step - loss: 2.3232 - mae: 2.7565 - lr: 3.5481e-08\n",
      "Epoch 13/100\n",
      "60/60 [==============================] - 1s 9ms/step - loss: 2.2072 - mae: 2.6396 - lr: 3.9811e-08\n",
      "Epoch 14/100\n",
      "60/60 [==============================] - 1s 9ms/step - loss: 2.1061 - mae: 2.5397 - lr: 4.4668e-08\n",
      "Epoch 15/100\n",
      "60/60 [==============================] - 1s 9ms/step - loss: 2.0181 - mae: 2.4519 - lr: 5.0119e-08\n",
      "Epoch 16/100\n",
      "60/60 [==============================] - 1s 9ms/step - loss: 1.9095 - mae: 2.3470 - lr: 5.6234e-08\n",
      "Epoch 17/100\n",
      "60/60 [==============================] - 1s 9ms/step - loss: 1.8025 - mae: 2.2378 - lr: 6.3096e-08\n",
      "Epoch 18/100\n",
      "60/60 [==============================] - 1s 9ms/step - loss: 1.6538 - mae: 2.0889 - lr: 7.0795e-08\n",
      "Epoch 19/100\n",
      "60/60 [==============================] - 1s 10ms/step - loss: 1.4662 - mae: 1.8981 - lr: 7.9433e-08\n",
      "Epoch 20/100\n",
      "60/60 [==============================] - 1s 11ms/step - loss: 1.2016 - mae: 1.6287 - lr: 8.9125e-08\n",
      "Epoch 21/100\n",
      "60/60 [==============================] - 1s 15ms/step - loss: 1.2334 - mae: 1.6654 - lr: 1.0000e-0787 - ma\n",
      "Epoch 22/100\n",
      "60/60 [==============================] - 1s 14ms/step - loss: 1.3162 - mae: 1.7520 - lr: 1.1220e-0797 - mae: 1.\n",
      "Epoch 23/100\n",
      "60/60 [==============================] - 1s 13ms/step - loss: 1.1088 - mae: 1.5334 - lr: 1.2589e-07\n",
      "Epoch 24/100\n",
      "60/60 [==============================] - 1s 12ms/step - loss: 1.1343 - mae: 1.5618 - lr: 1.4125e-07\n",
      "Epoch 25/100\n",
      "60/60 [==============================] - 1s 11ms/step - loss: 1.0618 - mae: 1.4832 - lr: 1.5849e-07\n",
      "Epoch 26/100\n",
      "60/60 [==============================] - 1s 12ms/step - loss: 1.0395 - mae: 1.4601 - lr: 1.7783e-07\n",
      "Epoch 27/100\n",
      "60/60 [==============================] - 1s 12ms/step - loss: 1.0074 - mae: 1.4251 - lr: 1.9953e-07\n",
      "Epoch 28/100\n",
      "60/60 [==============================] - 1s 12ms/step - loss: 0.9718 - mae: 1.3877 - lr: 2.2387e-07\n",
      "Epoch 29/100\n",
      "60/60 [==============================] - 1s 11ms/step - loss: 0.9222 - mae: 1.3343 - lr: 2.5119e-07\n",
      "Epoch 30/100\n",
      "60/60 [==============================] - 1s 11ms/step - loss: 0.9294 - mae: 1.3421 - lr: 2.8184e-0714 - mae: 1.\n",
      "Epoch 31/100\n",
      "60/60 [==============================] - 1s 11ms/step - loss: 0.9987 - mae: 1.4176 - lr: 3.1623e-07\n",
      "Epoch 32/100\n",
      "60/60 [==============================] - 1s 12ms/step - loss: 0.8781 - mae: 1.2891 - lr: 3.5481e-07\n",
      "Epoch 33/100\n",
      "60/60 [==============================] - 1s 12ms/step - loss: 0.8903 - mae: 1.3009 - lr: 3.9811e-07\n",
      "Epoch 34/100\n",
      "60/60 [==============================] - 1s 12ms/step - loss: 0.8494 - mae: 1.2558 - lr: 4.4668e-07\n",
      "Epoch 35/100\n",
      "60/60 [==============================] - 1s 11ms/step - loss: 0.8661 - mae: 1.2737 - lr: 5.0119e-07\n",
      "Epoch 36/100\n",
      "60/60 [==============================] - 1s 11ms/step - loss: 0.9619 - mae: 1.3736 - lr: 5.6234e-07\n",
      "Epoch 37/100\n",
      "60/60 [==============================] - 1s 12ms/step - loss: 0.8422 - mae: 1.2457 - lr: 6.3096e-07\n",
      "Epoch 38/100\n",
      "60/60 [==============================] - 1s 13ms/step - loss: 0.9949 - mae: 1.4114 - lr: 7.0795e-07\n",
      "Epoch 39/100\n",
      "60/60 [==============================] - 1s 16ms/step - loss: 0.9810 - mae: 1.3955 - lr: 7.9433e-07\n",
      "Epoch 40/100\n",
      "60/60 [==============================] - 1s 14ms/step - loss: 1.3922 - mae: 1.8222 - lr: 8.9125e-07\n",
      "Epoch 41/100\n",
      "60/60 [==============================] - 1s 14ms/step - loss: 2.9860 - mae: 3.4351 - lr: 1.0000e-0634 - m\n",
      "Epoch 42/100\n",
      "60/60 [==============================] - 1s 14ms/step - loss: 4.1427 - mae: 4.6088 - lr: 1.1220e-06\n",
      "Epoch 43/100\n",
      "60/60 [==============================] - 1s 13ms/step - loss: 2.0502 - mae: 2.5067 - lr: 1.2589e-06\n",
      "Epoch 44/100\n",
      "60/60 [==============================] - 1s 13ms/step - loss: 3.0087 - mae: 3.4409 - lr: 1.4125e-0659 - ma\n",
      "Epoch 45/100\n",
      "60/60 [==============================] - 1s 12ms/step - loss: 3.6445 - mae: 4.1020 - lr: 1.5849e-06\n",
      "Epoch 46/100\n",
      "60/60 [==============================] - 1s 12ms/step - loss: 3.1371 - mae: 3.6042 - lr: 1.7783e-06\n",
      "Epoch 47/100\n",
      "60/60 [==============================] - 1s 12ms/step - loss: 4.3348 - mae: 4.8026 - lr: 1.9953e-06\n",
      "Epoch 48/100\n",
      "60/60 [==============================] - 1s 12ms/step - loss: 4.6457 - mae: 5.1249 - lr: 2.2387e-06\n",
      "Epoch 49/100\n",
      "60/60 [==============================] - 1s 11ms/step - loss: 2.3188 - mae: 2.7527 - lr: 2.5119e-06\n",
      "Epoch 50/100\n",
      "60/60 [==============================] - 1s 11ms/step - loss: 3.0923 - mae: 3.5605 - lr: 2.8184e-06\n",
      "Epoch 51/100\n",
      "60/60 [==============================] - 1s 11ms/step - loss: 4.5700 - mae: 5.0514 - lr: 3.1623e-06\n",
      "Epoch 52/100\n",
      "60/60 [==============================] - 1s 11ms/step - loss: 2.9056 - mae: 3.3703 - lr: 3.5481e-06\n",
      "Epoch 53/100\n",
      "60/60 [==============================] - 1s 12ms/step - loss: 5.2773 - mae: 5.7513 - lr: 3.9811e-06\n",
      "Epoch 54/100\n",
      "60/60 [==============================] - 1s 12ms/step - loss: 5.2699 - mae: 5.7486 - lr: 4.4668e-06\n",
      "Epoch 55/100\n",
      "60/60 [==============================] - 1s 12ms/step - loss: 7.3397 - mae: 7.8168 - lr: 5.0119e-0661 - mae: \n",
      "Epoch 56/100\n",
      "60/60 [==============================] - 1s 12ms/step - loss: 5.8888 - mae: 6.3685 - lr: 5.6234e-06\n",
      "Epoch 57/100\n",
      "60/60 [==============================] - 1s 12ms/step - loss: 6.6919 - mae: 7.1817 - lr: 6.3096e-0677 - mae: 7.187\n",
      "Epoch 58/100\n",
      "60/60 [==============================] - 1s 12ms/step - loss: 4.9273 - mae: 5.4093 - lr: 7.0795e-06\n",
      "Epoch 59/100\n",
      "60/60 [==============================] - 1s 14ms/step - loss: 12.4495 - mae: 12.9407 - lr: 7.9433e-06 - mae: 8\n",
      "Epoch 60/100\n",
      "60/60 [==============================] - 1s 14ms/step - loss: 16.7802 - mae: 17.2755 - lr: 8.9125e-06\n",
      "Epoch 61/100\n",
      "60/60 [==============================] - 1s 14ms/step - loss: 17.8637 - mae: 18.3592 - lr: 1.0000e-05\n",
      "Epoch 62/100\n",
      "60/60 [==============================] - 1s 14ms/step - loss: 17.0348 - mae: 17.5261 - lr: 1.1220e-05\n",
      "Epoch 63/100\n",
      "60/60 [==============================] - 1s 14ms/step - loss: 17.3630 - mae: 17.8575 - lr: 1.2589e-05\n",
      "Epoch 64/100\n",
      "60/60 [==============================] - 1s 13ms/step - loss: 16.5672 - mae: 17.0572 - lr: 1.4125e-05\n",
      "Epoch 65/100\n",
      "60/60 [==============================] - 1s 15ms/step - loss: 8.9181 - mae: 9.3952 - lr: 1.5849e-05\n",
      "Epoch 66/100\n",
      "60/60 [==============================] - 1s 13ms/step - loss: 12.0738 - mae: 12.5656 - lr: 1.7783e-05\n",
      "Epoch 67/100\n",
      "60/60 [==============================] - 1s 12ms/step - loss: 7.8462 - mae: 8.3314 - lr: 1.9953e-05\n",
      "Epoch 68/100\n",
      "60/60 [==============================] - 1s 12ms/step - loss: 18.5613 - mae: 19.0554 - lr: 2.2387e-05\n",
      "Epoch 69/100\n",
      "60/60 [==============================] - 1s 11ms/step - loss: 15.7503 - mae: 16.2427 - lr: 2.5119e-05\n",
      "Epoch 70/100\n",
      "60/60 [==============================] - 1s 11ms/step - loss: 18.5236 - mae: 19.0187 - lr: 2.8184e-05022 - mae: 16.4\n",
      "Epoch 71/100\n",
      "60/60 [==============================] - 1s 11ms/step - loss: 20.5130 - mae: 21.0075 - lr: 3.1623e-05\n",
      "Epoch 72/100\n"
     ]
    },
    {
     "name": "stdout",
     "output_type": "stream",
     "text": [
      "60/60 [==============================] - 1s 11ms/step - loss: 20.3334 - mae: 20.8266 - lr: 3.5481e-05\n",
      "Epoch 73/100\n",
      "60/60 [==============================] - 1s 11ms/step - loss: 28.9191 - mae: 29.4160 - lr: 3.9811e-05\n",
      "Epoch 74/100\n",
      "60/60 [==============================] - 1s 11ms/step - loss: 23.8136 - mae: 24.3104 - lr: 4.4668e-05\n",
      "Epoch 75/100\n",
      "60/60 [==============================] - 1s 11ms/step - loss: 18.3580 - mae: 18.8504 - lr: 5.0119e-05\n",
      "Epoch 76/100\n",
      "60/60 [==============================] - 1s 11ms/step - loss: 19.6917 - mae: 20.1869 - lr: 5.6234e-05825 - mae: 18.97\n",
      "Epoch 77/100\n",
      "60/60 [==============================] - 1s 13ms/step - loss: 15.8695 - mae: 16.3617 - lr: 6.3096e-05\n",
      "Epoch 78/100\n",
      "60/60 [==============================] - 1s 13ms/step - loss: 17.9221 - mae: 18.4149 - lr: 7.0795e-05490 - mae: 19. - ETA: 0s - loss: 13.4607 - mae: \n",
      "Epoch 79/100\n",
      "60/60 [==============================] - 1s 14ms/step - loss: 26.2565 - mae: 26.7525 - lr: 7.9433e-05\n",
      "Epoch 80/100\n",
      "60/60 [==============================] - 1s 14ms/step - loss: 36.5226 - mae: 37.0192 - lr: 8.9125e-05\n",
      "Epoch 81/100\n",
      "60/60 [==============================] - 1s 15ms/step - loss: 24.1048 - mae: 24.6012 - lr: 1.0000e-04\n",
      "Epoch 82/100\n",
      "60/60 [==============================] - 1s 15ms/step - loss: 31.3851 - mae: 31.8813 - lr: 1.1220e-04\n",
      "Epoch 83/100\n",
      "60/60 [==============================] - 1s 13ms/step - loss: 24.8098 - mae: 25.3066 - lr: 1.2589e-04\n",
      "Epoch 84/100\n",
      "60/60 [==============================] - 1s 13ms/step - loss: 18.7355 - mae: 19.2296 - lr: 1.4125e-04\n",
      "Epoch 85/100\n",
      "60/60 [==============================] - 1s 13ms/step - loss: 24.7129 - mae: 25.2086 - lr: 1.5849e-04\n",
      "Epoch 86/100\n",
      "60/60 [==============================] - 1s 14ms/step - loss: 27.1108 - mae: 27.6070 - lr: 1.7783e-04\n",
      "Epoch 87/100\n",
      "60/60 [==============================] - 1s 14ms/step - loss: 18.0924 - mae: 18.5861 - lr: 1.9953e-04\n",
      "Epoch 88/100\n",
      "60/60 [==============================] - 1s 14ms/step - loss: 22.4463 - mae: 22.9415 - lr: 2.2387e-04\n",
      "Epoch 89/100\n",
      "60/60 [==============================] - 1s 15ms/step - loss: 23.1318 - mae: 23.6272 - lr: 2.5119e-04\n",
      "Epoch 90/100\n",
      "60/60 [==============================] - 1s 13ms/step - loss: 24.3666 - mae: 24.8639 - lr: 2.8184e-04\n",
      "Epoch 91/100\n",
      "60/60 [==============================] - 1s 13ms/step - loss: 22.5716 - mae: 23.0664 - lr: 3.1623e-04\n",
      "Epoch 92/100\n",
      "60/60 [==============================] - 1s 12ms/step - loss: 25.0978 - mae: 25.5950 - lr: 3.5481e-04\n",
      "Epoch 93/100\n",
      "60/60 [==============================] - 1s 12ms/step - loss: 18.9115 - mae: 19.4066 - lr: 3.9811e-04\n",
      "Epoch 94/100\n",
      "60/60 [==============================] - 1s 13ms/step - loss: 29.1601 - mae: 29.6585 - lr: 4.4668e-04967 - m\n",
      "Epoch 95/100\n",
      "60/60 [==============================] - 1s 12ms/step - loss: 66.7551 - mae: 67.2539 - lr: 5.0119e-04\n",
      "Epoch 96/100\n",
      "60/60 [==============================] - 1s 13ms/step - loss: 121.2930 - mae: 121.7922 - lr: 5.6234e-04\n",
      "Epoch 97/100\n",
      "60/60 [==============================] - 1s 15ms/step - loss: 131.1229 - mae: 131.6217 - lr: 6.3096e-04\n",
      "Epoch 98/100\n",
      "60/60 [==============================] - 1s 14ms/step - loss: 208.3698 - mae: 208.8698 - lr: 7.0795e-04\n",
      "Epoch 99/100\n",
      "60/60 [==============================] - 1s 14ms/step - loss: 284.0034 - mae: 284.5031 - lr: 7.9433e-04\n",
      "Epoch 100/100\n",
      "60/60 [==============================] - 1s 14ms/step - loss: 424.0686 - mae: 424.5685 - lr: 8.9125e-04\n"
     ]
    }
   ],
   "source": [
    "model = tf.keras.models.Sequential([\n",
    "  tf.keras.layers.Lambda(lambda x: tf.expand_dims(x, axis=-1),\n",
    "                      input_shape=[None]),\n",
    "  tf.keras.layers.SimpleRNN(40, return_sequences=True),\n",
    "  tf.keras.layers.SimpleRNN(40),\n",
    "  tf.keras.layers.Dense(1),\n",
    "  tf.keras.layers.Lambda(lambda x: x * 100.0)\n",
    "])\n",
    "\n",
    "lr_schedule = tf.keras.callbacks.LearningRateScheduler(\n",
    "    lambda epoch: 1e-8 * 10**(epoch / 20))\n",
    "optimizer = tf.keras.optimizers.SGD(lr=1e-8, momentum=0.9)\n",
    "model.compile(loss=tf.keras.losses.Huber(),\n",
    "              optimizer=optimizer,\n",
    "              metrics=[\"mae\"])\n",
    "history = model.fit(train_set, epochs=100, callbacks=[lr_schedule])"
   ]
  },
  {
   "cell_type": "code",
   "execution_count": 36,
   "metadata": {},
   "outputs": [
    {
     "data": {
      "text/plain": [
       "[1e-08, 0.0001, 0, 30]"
      ]
     },
     "execution_count": 36,
     "metadata": {},
     "output_type": "execute_result"
    },
    {
     "data": {
      "image/png": "[encoded data removed]",
      "text/plain": [
       "<Figure size 432x288 with 1 Axes>"
      ]
     },
     "metadata": {
      "needs_background": "light"
     },
     "output_type": "display_data"
    }
   ],
   "source": [
    "plt.semilogx(history.history[\"lr\"], history.history[\"loss\"])\n",
    "plt.axis([1e-8, 1e-4, 0, 30])"
   ]
  },
  {
   "cell_type": "code",
   "execution_count": 48,
   "metadata": {},
   "outputs": [
    {
     "name": "stdout",
     "output_type": "stream",
     "text": [
      "Epoch 1/400\n",
      "60/60 [==============================] - 1s 10ms/step - loss: 38.4121 - mae: 38.9087\n",
      "Epoch 2/400\n",
      "60/60 [==============================] - 1s 10ms/step - loss: 12.8539 - mae: 13.3425\n",
      "Epoch 3/400\n",
      "60/60 [==============================] - 1s 10ms/step - loss: 6.9229 - mae: 7.4031\n",
      "Epoch 4/400\n",
      "60/60 [==============================] - 1s 9ms/step - loss: 3.7246 - mae: 4.1857\n",
      "Epoch 5/400\n",
      "60/60 [==============================] - 1s 11ms/step - loss: 2.2947 - mae: 2.7405\n",
      "Epoch 6/400\n",
      "60/60 [==============================] - 1s 13ms/step - loss: 1.7026 - mae: 2.1342\n",
      "Epoch 7/400\n",
      "60/60 [==============================] - 1s 13ms/step - loss: 1.6769 - mae: 2.1066: 0s - loss: 1.6738 - mae: 2.0\n",
      "Epoch 8/400\n",
      "60/60 [==============================] - 1s 13ms/step - loss: 1.9038 - mae: 2.3327\n",
      "Epoch 9/400\n",
      "60/60 [==============================] - 1s 13ms/step - loss: 1.5480 - mae: 1.9832\n",
      "Epoch 10/400\n",
      "60/60 [==============================] - 1s 13ms/step - loss: 1.5406 - mae: 1.9627\n",
      "Epoch 11/400\n",
      "60/60 [==============================] - 1s 13ms/step - loss: 1.4557 - mae: 1.8756\n",
      "Epoch 12/400\n",
      "60/60 [==============================] - 1s 12ms/step - loss: 1.5243 - mae: 1.9471\n",
      "Epoch 13/400\n",
      "60/60 [==============================] - 1s 12ms/step - loss: 1.9391 - mae: 2.3672\n",
      "Epoch 14/400\n",
      "60/60 [==============================] - 1s 15ms/step - loss: 1.4463 - mae: 1.8813\n",
      "Epoch 15/400\n",
      "60/60 [==============================] - 1s 13ms/step - loss: 2.1580 - mae: 2.5882\n",
      "Epoch 16/400\n",
      "60/60 [==============================] - 1s 12ms/step - loss: 1.5319 - mae: 1.9669\n"
     ]
    }
   ],
   "source": [
    "tf.keras.backend.clear_session()\n",
    "tf.random.set_seed(51)\n",
    "np.random.seed(51)\n",
    "\n",
    "dataset = windowed_dataset(x_train, window_size, batch_size=128, shuffle_buffer=shuffle_buffer_size)\n",
    "val_dataset = windowed_dataset(test_x, window_size, batch_size=128, shuffle_buffer=shuffle_buffer_size)\n",
    "\n",
    "early_stopping = tf.keras.callbacks.EarlyStopping(monitor='mae',\n",
    "                                                    patience=5,\n",
    "                                                    mode='min')\n",
    "\n",
    "model = tf.keras.models.Sequential([\n",
    "  tf.keras.layers.Lambda(lambda x: tf.expand_dims(x, axis=-1),\n",
    "                      input_shape=[None]),\n",
    "  tf.keras.layers.SimpleRNN(40, return_sequences=True),\n",
    "  tf.keras.layers.SimpleRNN(40),\n",
    "  tf.keras.layers.Dense(1),\n",
    "  tf.keras.layers.Lambda(lambda x: x * 100.0)\n",
    "])\n",
    "\n",
    "optimizer = tf.keras.optimizers.SGD(lr=5e-7, momentum=0.9)\n",
    "model.compile(loss=tf.keras.losses.Huber(),\n",
    "              optimizer=optimizer,\n",
    "              metrics=[\"mae\"])\n",
    "history = model.fit(dataset,epochs=400,callbacks=[early_stopping])"
   ]
  },
  {
   "cell_type": "code",
   "execution_count": 51,
   "metadata": {},
   "outputs": [
    {
     "data": {
      "text/plain": [
       "array([[18.63],\n",
       "       [18.45],\n",
       "       [18.55],\n",
       "       ...,\n",
       "       [39.75],\n",
       "       [38.  ],\n",
       "       [39.78]])"
      ]
     },
     "execution_count": 51,
     "metadata": {},
     "output_type": "execute_result"
    }
   ],
   "source": [
    "series = series.astype(np.float)\n",
    "series"
   ]
  },
  {
   "cell_type": "code",
   "execution_count": 52,
   "metadata": {},
   "outputs": [],
   "source": [
    "series_n =[]\n",
    "for i in range(len(series)):\n",
    "    series_n.append(series[i][0])"
   ]
  },
  {
   "cell_type": "code",
   "execution_count": 66,
   "metadata": {},
   "outputs": [],
   "source": [
    "series_n = np.array(series_n,dtype='float32')"
   ]
  },
  {
   "cell_type": "code",
   "execution_count": 67,
   "metadata": {},
   "outputs": [
    {
     "data": {
      "text/plain": [
       "array([18.63, 18.45, 18.55, 18.6 , 18.63], dtype=float32)"
      ]
     },
     "execution_count": 67,
     "metadata": {},
     "output_type": "execute_result"
    }
   ],
   "source": [
    "series_n[:5]"
   ]
  },
  {
   "cell_type": "code",
   "execution_count": 58,
   "metadata": {},
   "outputs": [],
   "source": [
    "time=int(time)"
   ]
  },
  {
   "cell_type": "code",
   "execution_count": 61,
   "metadata": {},
   "outputs": [],
   "source": [
    "window_size=int(window_size)"
   ]
  },
  {
   "cell_type": "code",
   "execution_count": 60,
   "metadata": {},
   "outputs": [],
   "source": [
    "split_time=int(split_time)"
   ]
  },
  {
   "cell_type": "code",
   "execution_count": 68,
   "metadata": {},
   "outputs": [],
   "source": [
    "forecast=[]\n",
    "for time in range(len(series) - window_size):\n",
    "    forecast.append(model.predict(series_n[time:time + window_size][np.newaxis]))\n",
    "\n",
    "forecast = forecast[split_time-window_size:]\n",
    "results = np.array(forecast)[:, 0, 0]"
   ]
  },
  {
   "cell_type": "code",
   "execution_count": 69,
   "metadata": {},
   "outputs": [
    {
     "data": {
      "text/plain": [
       "847"
      ]
     },
     "execution_count": 69,
     "metadata": {},
     "output_type": "execute_result"
    }
   ],
   "source": [
    "len(forecast)"
   ]
  },
  {
   "cell_type": "code",
   "execution_count": 72,
   "metadata": {},
   "outputs": [
    {
     "data": {
      "text/plain": [
       "847"
      ]
     },
     "execution_count": 72,
     "metadata": {},
     "output_type": "execute_result"
    }
   ],
   "source": [
    "len(test_x)"
   ]
  },
  {
   "cell_type": "code",
   "execution_count": 73,
   "metadata": {},
   "outputs": [
    {
     "data": {
      "text/plain": [
       "847"
      ]
     },
     "execution_count": 73,
     "metadata": {},
     "output_type": "execute_result"
    }
   ],
   "source": [
    "len(time_valid)"
   ]
  },
  {
   "cell_type": "code",
   "execution_count": 71,
   "metadata": {},
   "outputs": [
    {
     "data": {
      "image/png": "[encoded data removed]",
      "text/plain": [
       "<Figure size 720x432 with 1 Axes>"
      ]
     },
     "metadata": {
      "needs_background": "light"
     },
     "output_type": "display_data"
    }
   ],
   "source": [
    "plt.figure(figsize=(10, 6))\n",
    "def plot_series(time, series, format=\"-\", start=0, end=None):\n",
    "    plt.plot(time[start:end], series[start:end], format)\n",
    "    plt.xlabel(\"Time\")\n",
    "    plt.ylabel(\"Value\")\n",
    "    plt.grid(True)\n",
    "plot_series(time_valid, test_x)\n",
    "plot_series(time_valid, results)"
   ]
  },
  {
   "cell_type": "code",
   "execution_count": null,
   "metadata": {},
   "outputs": [],
   "source": []
  }
 ],
 "metadata": {
  "celltoolbar": "Attachments",
  "kernelspec": {
   "display_name": "Python 3",
   "language": "python",
   "name": "python3"
  },
  "language_info": {
   "codemirror_mode": {
    "name": "ipython",
    "version": 3
   },
   "file_extension": ".py",
   "mimetype": "text/x-python",
   "name": "python",
   "nbconvert_exporter": "python",
   "pygments_lexer": "ipython3",
   "version": "3.7.6"
  }
 },
 "nbformat": 4,
 "nbformat_minor": 1
}
